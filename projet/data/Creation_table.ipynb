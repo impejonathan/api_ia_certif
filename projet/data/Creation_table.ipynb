{
 "cells": [
  {
   "cell_type": "code",
   "execution_count": 3,
   "metadata": {},
   "outputs": [],
   "source": [
    "import os\n",
    "from dotenv import load_dotenv\n",
    "import pyodbc\n",
    "\n",
    "# Charger les variables d'environnement\n",
    "load_dotenv()\n",
    "\n",
    "server = os.getenv('DB_SERVER')\n",
    "database = os.getenv('DB_DATABASE')\n",
    "username = os.getenv('DB_USERNAME')\n",
    "password = os.getenv('DB_PASSWORD')\n",
    "\n",
    "driver= '{ODBC Driver 17 for SQL Server}'\n",
    "\n",
    "cnxn = pyodbc.connect('DRIVER='+driver+';SERVER='+server+';PORT=1433;DATABASE='+database+';UID='+username+';PWD='+ password)\n",
    "cursor = cnxn.cursor()"
   ]
  },
  {
   "cell_type": "markdown",
   "metadata": {},
   "source": [
    "## drop table"
   ]
  },
  {
   "cell_type": "code",
   "execution_count": 4,
   "metadata": {},
   "outputs": [],
   "source": [
    "# cursor.execute(\"DROP TABLE IF EXISTS Prediction\")\n",
    "\n",
    "# cnxn.commit()"
   ]
  },
  {
   "cell_type": "markdown",
   "metadata": {},
   "source": [
    "## Create table   pour les Prediction "
   ]
  },
  {
   "cell_type": "code",
   "execution_count": 6,
   "metadata": {},
   "outputs": [],
   "source": [
    "# # Création de la table Prediction_Model\n",
    "# cursor.execute(\"\"\"\n",
    "# CREATE TABLE Prediction (\n",
    "#     ID_Produit INT PRIMARY KEY IDENTITY,\n",
    "#     Prix_prediction INT,\n",
    "#     Date_prediction DATE,\n",
    "#     Info_generale VARCHAR(200),\n",
    "#     Descriptif VARCHAR(200),\n",
    "#     Note VARCHAR(50),\n",
    "#     Marque VARCHAR(200),\n",
    "#     Consommation CHAR(1),\n",
    "#     Indice_Pluie CHAR(1),\n",
    "#     Bruit INT,\n",
    "#     Saisonalite VARCHAR(50),\n",
    "#     Type_Vehicule VARCHAR(50),\n",
    "#     Runflat VARCHAR(50),\n",
    "#     Largeur INT,\n",
    "#     Hauteur INT,\n",
    "#     Diametre INT,\n",
    "#     Charge INT,\n",
    "#     Vitesse CHAR(1),\n",
    "# )\n",
    "# \"\"\")\n",
    "\n",
    "# cnxn.commit()\n",
    "# cnxn.close()"
   ]
  }
 ],
 "metadata": {
  "kernelspec": {
   "display_name": "env",
   "language": "python",
   "name": "python3"
  },
  "language_info": {
   "codemirror_mode": {
    "name": "ipython",
    "version": 3
   },
   "file_extension": ".py",
   "mimetype": "text/x-python",
   "name": "python",
   "nbconvert_exporter": "python",
   "pygments_lexer": "ipython3",
   "version": "3.10.8"
  }
 },
 "nbformat": 4,
 "nbformat_minor": 2
}
